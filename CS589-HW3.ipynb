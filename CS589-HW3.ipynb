{
 "cells": [
  {
   "cell_type": "markdown",
   "metadata": {},
   "source": [
    "# COMPSCI589 Homework 3\n",
    "##### Chang Liu, 3.28.2022\n",
    "\n",
    "## Programming: Random Forest Algorithm"
   ]
  },
  {
   "cell_type": "code",
   "execution_count": 218,
   "metadata": {},
   "outputs": [],
   "source": [
    "import csv\n",
    "import json\n",
    "from pprint import pprint\n",
    "import numpy as np\n",
    "import math\n",
    "from sklearn.model_selection import train_test_split\n",
    "from collections import Counter\n",
    "import matplotlib.pyplot as plt"
   ]
  },
  {
   "cell_type": "code",
   "execution_count": 219,
   "metadata": {},
   "outputs": [],
   "source": [
    "def entropy(data):\n",
    "    '''\n",
    "    list of classes -> entropy\n",
    "    '''\n",
    "    cnt = list(Counter(data).values())\n",
    "    total = len(data)\n",
    "    return sum([-k/total * math.log(k/total, 2) for k in cnt])"
   ]
  },
  {
   "cell_type": "code",
   "execution_count": 220,
   "metadata": {},
   "outputs": [],
   "source": [
    "def gini(data):\n",
    "    cnt = list(Counter(data).values())\n",
    "    total = len(data)\n",
    "    return 1 - sum([k/total * (k/total) for k in cnt])"
   ]
  },
  {
   "cell_type": "code",
   "execution_count": 221,
   "metadata": {},
   "outputs": [],
   "source": [
    "def entropy_in_list(data, attr_list, algo):\n",
    "    '''\n",
    "    house_data(w/ tags)->entropy_of_all_attributes[]\n",
    "    '''\n",
    "    attr_count = len(data.T) - 1\n",
    "    total_entry = len(data)\n",
    "    ent_list = []\n",
    "    # for each attributes, calculate information gain\n",
    "    for i in range(attr_count):\n",
    "        # skip if not in attr_list\n",
    "        if(not i in attr_list):\n",
    "            ent_list.append(1000) # infinate high entropy\n",
    "            continue\n",
    "        # three possible classes are hard coded\n",
    "        # organize data by class\n",
    "        v_tag = {0: [], 1: [], 2: []}\n",
    "        for j in range(len(data)):\n",
    "            v_tag[data[j][i]].append(data[j][-1])\n",
    "        # sum of entropy of each class\n",
    "        ent = sum( len(v_tag[val])/total_entry * algo(v_tag[val]) for val in v_tag )\n",
    "        ent_list.append(ent)\n",
    "    return ent_list"
   ]
  },
  {
   "cell_type": "code",
   "execution_count": 222,
   "metadata": {},
   "outputs": [],
   "source": [
    "class Node:\n",
    "    # tag means different classes, since class is a reserved keyword\n",
    "    def __init__(self, depth, isLeaf=False, attr_index=None, tag=None ):\n",
    "        self.depth = depth\n",
    "        self.attr_index = attr_index\n",
    "        self.isLeaf = isLeaf\n",
    "        self.tag = tag\n",
    "        self.children = []\n",
    "        self.option = None\n",
    "        self.parent = None\n",
    "\n",
    "    def print_tree(self, indent=0):\n",
    "        ind_str = ' ' * indent\n",
    "        if self.isLeaf:\n",
    "            print( ind_str + \"Leaf:CLASS\" , self.tag, \"OPTION\", self.option , \"DEPTH\" , self.depth)\n",
    "        else:\n",
    "            print( ind_str + \"Node:SPLIT_ATTI\" , house_attributes[self.attr_index] , \"OPTION\" , self.option , \"DEPTH\" , self.depth)\n",
    "            for child in self.children:\n",
    "                child.print_tree(indent+2)"
   ]
  },
  {
   "cell_type": "code",
   "execution_count": 231,
   "metadata": {},
   "outputs": [],
   "source": [
    "def build_decision_tree(data, attr_list, meta, algo,_depth=0):\n",
    "    # If there are no more attributes that can be tested, return the most common tag\n",
    "    if (not attr_list): # equivelent to len(attr_list) == 0\n",
    "        return Node( _depth, isLeaf=True, tag=Counter(data.T[-1]).most_common()[0][0])\n",
    "\n",
    "    # If there are no more data\n",
    "    if (not data.any()):\n",
    "        return Node( _depth, isLeaf=True, tag=None)\n",
    "\n",
    "    tags = data.T[-1]\n",
    "    original_entropy = entropy(tags)\n",
    "\n",
    "    # If there is only one tag, return the tag\n",
    "    if (original_entropy == 0):\n",
    "        return Node( _depth, isLeaf=True, tag=Counter(tags).most_common()[0][0])\n",
    "    # this subtraction is not necessary, just to be justify the name 'info_gain'\n",
    "    if algo=='gini':\n",
    "        gini_val = entropy_in_list(data, attr_list, gini)\n",
    "        decision_attr = np.argmin(gini_val)\n",
    "    elif algo=='entropy':\n",
    "        info_gain = [original_entropy - ent for ent in entropy_in_list(data, attr_list, entropy)]\n",
    "        decision_attr = np.argmax(info_gain)\n",
    "\n",
    "    # get the index of the attribute with highest information gain\n",
    "    nd = Node( _depth, isLeaf=False, attr_index=decision_attr ) \n",
    "    # keep track of a majority tag in case the leaf is None\n",
    "    nd.tag = Counter(data.T[-1]).most_common()[0][0]\n",
    "    # remove decision attribute from attr_list\n",
    "    new_attr_list = [x for x in attr_list if x != decision_attr]\n",
    "\n",
    "    meta_decided_attribute = meta['attribute_info'][decision_attr]\n",
    "    if (meta_decided_attribute['attr_type'] == 'categorical'):\n",
    "        nd.possible_options = meta_decided_attribute['attr_possible_options']\n",
    "    elif (meta_decided_attribute['attr_type'] == 'numerical'):\n",
    "        \n",
    "    print(nd.possible_options)\n",
    "    # build subtree for each possible option \n",
    "    for v in nd.possible_options:\n",
    "        # filtered data\n",
    "        new_data = data[data.T[decision_attr] == v]\n",
    "        subtree = build_decision_tree(new_data, new_attr_list, meta, algo, _depth+1) \n",
    "        subtree.option = v\n",
    "        nd.children.append(subtree)\n",
    "        subtree.parent = nd\n",
    "\n",
    "    return nd"
   ]
  },
  {
   "cell_type": "code",
   "execution_count": 224,
   "metadata": {},
   "outputs": [],
   "source": [
    "def func_generate_template_json(attribute_list):\n",
    "    \"\"\"\n",
    "    generate a json names file\n",
    "    \"\"\"\n",
    "    attr_info = []\n",
    "    for i in range(len(attribute_list)):\n",
    "        attr_info.append({'attr_index': i, \\\n",
    "            'attr_name': attribute_list[i], \\\n",
    "            'attr_type': 'categorical', \\\n",
    "            'attr_possible_options': [0, 1, 2]})\n",
    "    with open('temp.json', 'w') as f:\n",
    "        json.dump(attr_info, f, indent=2)"
   ]
  },
  {
   "cell_type": "code",
   "execution_count": 225,
   "metadata": {},
   "outputs": [],
   "source": [
    "def load_data(cvsfilename): \n",
    "    meta = {'classatcolumn': -1, 'possible_classes':[], 'attributes':[], 'attribute_info':[]}\n",
    "    # import data, include encoding to ommit BOM  \n",
    "    data = []\n",
    "    with open(cvsfilename, 'r', encoding='utf-8-sig') as csvfile:\n",
    "        reader = csv.reader(csvfile)\n",
    "        for row in reader:\n",
    "            if len(row) != 0: # skip empty lines\n",
    "                data.append(row)\n",
    "    # drop the attribute row from the list\n",
    "    attributes = data.pop(0)\n",
    "    data = np.array(data).astype(int)\n",
    "    return (data, attributes)"
   ]
  },
  {
   "cell_type": "code",
   "execution_count": 226,
   "metadata": {},
   "outputs": [],
   "source": [
    "def load_meta(jsonfilename):\n",
    "    meta = {};\n",
    "    with open(jsonfilename) as json_file:\n",
    "        meta['attribute_info'] = json.load(json_file)\n",
    "    return meta"
   ]
  },
  {
   "cell_type": "code",
   "execution_count": 227,
   "metadata": {},
   "outputs": [],
   "source": [
    "def predict(row, node):\n",
    "    for child in node.children:\n",
    "        if row[node.attr_index] == child.option:\n",
    "            if child.isLeaf:\n",
    "                if child.tag == None:\n",
    "                    return node.tag\n",
    "                else:\n",
    "                    return child.tag\n",
    "            else:\n",
    "                return predict(row, child)\n",
    "    return None;\n",
    "\n",
    "def evaluate(data, tree):\n",
    "    correct = 0\n",
    "    for i in range(len(data)):\n",
    "        if data[i][-1] == predict(data[i], tree):\n",
    "            correct += 1\n",
    "    return correct / len(data)\n",
    "\n",
    "def dispatch(data, meta, algo, random_state=42):\n",
    "    train, test = train_test_split(data, test_size=0.2, shuffle=True, random_state=random_state)\n",
    "    tree = build_decision_tree(train, list(range(len(meta['attributes'])-1)), meta, algo)\n",
    "    tree.print_tree()\n",
    "    return evaluate(train, tree), evaluate(test, tree)"
   ]
  },
  {
   "cell_type": "code",
   "execution_count": 228,
   "metadata": {},
   "outputs": [],
   "source": [
    "# load house data\n",
    "house_data, house_attribute = load_data(\"datasets/hw3_house_votes_84.csv\")\n",
    "house_meta = load_meta(\"datasets/hw3_house_votes_84.json\")\n",
    "house_meta['possible_classes'] = [0, 1, 2]\n",
    "house_meta['attributes'] = house_attribute\n",
    "house_meta['classatcolumn'] = -1"
   ]
  },
  {
   "cell_type": "code",
   "execution_count": 229,
   "metadata": {},
   "outputs": [
    {
     "name": "stdout",
     "output_type": "stream",
     "text": [
      "[[2 2 1 2 1]\n",
      " [2 2 1 0 1]\n",
      " [2 2 1 1 0]\n",
      " [2 1 1 2 0]\n",
      " [2 2 2 2 0]]\n"
     ]
    }
   ],
   "source": [
    "# temporary test data\n",
    "temp_data = house_data[:5, -5:]\n",
    "print(temp_data)"
   ]
  },
  {
   "cell_type": "code",
   "execution_count": 232,
   "metadata": {},
   "outputs": [
    {
     "name": "stdout",
     "output_type": "stream",
     "text": [
      "Node:SPLIT_ATTI water-project-cost-sharing OPTION None DEPTH 0\n",
      "  Leaf:CLASS None OPTION 0 DEPTH 1\n",
      "  Leaf:CLASS 0 OPTION 1 DEPTH 1\n",
      "  Node:SPLIT_ATTI adoption-of-the-budget-resolution OPTION 2 DEPTH 1\n",
      "    Leaf:CLASS None OPTION 0 DEPTH 2\n",
      "    Node:SPLIT_ATTI physician-fee-freeze OPTION 1 DEPTH 2\n",
      "      Leaf:CLASS None OPTION 0 DEPTH 3\n",
      "      Leaf:CLASS 0 OPTION 1 DEPTH 3\n",
      "      Leaf:CLASS 1 OPTION 2 DEPTH 3\n",
      "    Leaf:CLASS 0 OPTION 2 DEPTH 2\n",
      "1.0 0.0\n"
     ]
    }
   ],
   "source": [
    "eval_train, eval_test = dispatch(temp_data, house_meta, \"entropy\")\n",
    "print(eval_train, eval_test)"
   ]
  }
 ],
 "metadata": {
  "interpreter": {
   "hash": "b0fa6594d8f4cbf19f97940f81e996739fb7646882a419484c72d19e05852a7e"
  },
  "kernelspec": {
   "display_name": "Python 3.9.10 64-bit",
   "language": "python",
   "name": "python3"
  },
  "language_info": {
   "codemirror_mode": {
    "name": "ipython",
    "version": 3
   },
   "file_extension": ".py",
   "mimetype": "text/x-python",
   "name": "python",
   "nbconvert_exporter": "python",
   "pygments_lexer": "ipython3",
   "version": "3.9.10"
  },
  "orig_nbformat": 4
 },
 "nbformat": 4,
 "nbformat_minor": 2
}
